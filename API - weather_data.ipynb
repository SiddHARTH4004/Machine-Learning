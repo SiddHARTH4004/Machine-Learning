{
 "cells": [
  {
   "cell_type": "markdown",
   "id": "4be480ec-8b18-4f13-8964-a546d915906b",
   "metadata": {},
   "source": [
    "# API - weather data\n"
   ]
  },
  {
   "cell_type": "code",
   "execution_count": 1,
   "id": "cc91135c-adc0-4542-98c8-573359ac2da8",
   "metadata": {},
   "outputs": [
    {
     "name": "stdout",
     "output_type": "stream",
     "text": [
      "{\n",
      "     \"coord\": {\n",
      "          \"lon\": 74.2167,\n",
      "          \"lat\": 16.7\n",
      "     },\n",
      "     \"weather\": [\n",
      "          {\n",
      "               \"id\": 804,\n",
      "               \"main\": \"Clouds\",\n",
      "               \"description\": \"overcast clouds\",\n",
      "               \"icon\": \"04d\"\n",
      "          }\n",
      "     ],\n",
      "     \"base\": \"stations\",\n",
      "     \"main\": {\n",
      "          \"temp\": 296.18,\n",
      "          \"feels_like\": 296.94,\n",
      "          \"temp_min\": 296.18,\n",
      "          \"temp_max\": 296.18,\n",
      "          \"pressure\": 1010,\n",
      "          \"humidity\": 92,\n",
      "          \"sea_level\": 1010,\n",
      "          \"grnd_level\": 948\n",
      "     },\n",
      "     \"visibility\": 10000,\n",
      "     \"wind\": {\n",
      "          \"speed\": 6.46,\n",
      "          \"deg\": 246,\n",
      "          \"gust\": 12.25\n",
      "     },\n",
      "     \"clouds\": {\n",
      "          \"all\": 100\n",
      "     },\n",
      "     \"dt\": 1724478629,\n",
      "     \"sys\": {\n",
      "          \"country\": \"IN\",\n",
      "          \"sunrise\": 1724460524,\n",
      "          \"sunset\": 1724505757\n",
      "     },\n",
      "     \"timezone\": 19800,\n",
      "     \"id\": 1266285,\n",
      "     \"name\": \"Kolh\\u0101pur\",\n",
      "     \"cod\": 200\n",
      "}\n"
     ]
    }
   ],
   "source": [
    "import json\n",
    "import requests\n",
    "\n",
    "api_key=\"e09fcc99749d2e3493dfe0fb989df11f\"\n",
    "city=\"kolhapur\"\n",
    "url=f\"https://api.openweathermap.org/data/2.5/weather?q={city}&appid={api_key}\"\n",
    "\n",
    "response=requests.get(url)\n",
    "\n",
    "if response.status_code ==200:\n",
    "    data=response.json()\n",
    "    print(json.dumps(data, indent=5))\n",
    "\n",
    "    with open(\"weather_data.json\",\"w\")as file:\n",
    "        json.dump(data,file,indent=5)\n",
    "\n",
    "else:\n",
    "    print(f\"Error:{response.status_code}\")"
   ]
  }
 ],
 "metadata": {
  "kernelspec": {
   "display_name": "Python 3 (ipykernel)",
   "language": "python",
   "name": "python3"
  },
  "language_info": {
   "codemirror_mode": {
    "name": "ipython",
    "version": 3
   },
   "file_extension": ".py",
   "mimetype": "text/x-python",
   "name": "python",
   "nbconvert_exporter": "python",
   "pygments_lexer": "ipython3",
   "version": "3.12.4"
  }
 },
 "nbformat": 4,
 "nbformat_minor": 5
}
